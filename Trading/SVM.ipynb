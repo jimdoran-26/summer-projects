{
 "cells": [
  {
   "cell_type": "code",
   "execution_count": 1,
   "metadata": {},
   "outputs": [],
   "source": [
    "#https://www.youtube.com/watch?v=tMPfZV_ipOg&t=1s\n",
    "#Facebook Stock Prediction using Machine Learning Algo called \n",
    "#Support Vector Regression (SVR)\n",
    "import pandas as pd\n",
    "import numpy as np\n",
    "import matplotlib.pyplot as plt\n",
    "from sklearn.svm import SVR\n",
    "from pandas_datareader import data as wb"
   ]
  },
  {
   "cell_type": "code",
   "execution_count": 13,
   "metadata": {},
   "outputs": [
    {
     "data": {
      "text/plain": [
       "(Date\n",
       " 2020-03-02    2020-03-02\n",
       " 2020-03-03    2020-03-03\n",
       " 2020-03-04    2020-03-04\n",
       " 2020-03-05    2020-03-05\n",
       " 2020-03-06    2020-03-06\n",
       " 2020-03-09    2020-03-09\n",
       " 2020-03-10    2020-03-10\n",
       " 2020-03-11    2020-03-11\n",
       " 2020-03-12    2020-03-12\n",
       " 2020-03-13    2020-03-13\n",
       " 2020-03-16    2020-03-16\n",
       " 2020-03-17    2020-03-17\n",
       " 2020-03-18    2020-03-18\n",
       " 2020-03-19    2020-03-19\n",
       " 2020-03-20    2020-03-20\n",
       " 2020-03-23    2020-03-23\n",
       " 2020-03-24    2020-03-24\n",
       " 2020-03-25    2020-03-25\n",
       " 2020-03-26    2020-03-26\n",
       " 2020-03-27    2020-03-27\n",
       " 2020-03-30    2020-03-30\n",
       " 2020-03-31    2020-03-31\n",
       " 2020-04-01    2020-04-01\n",
       " Name: dates, dtype: object,\n",
       " Date\n",
       " 2020-03-02    194.029999\n",
       " 2020-03-03    196.220001\n",
       " 2020-03-04    189.169998\n",
       " 2020-03-05    186.779999\n",
       " 2020-03-06    178.330002\n",
       " 2020-03-09    169.600006\n",
       " 2020-03-10    174.669998\n",
       " 2020-03-11    174.009995\n",
       " 2020-03-12    159.539993\n",
       " 2020-03-13    163.529999\n",
       " 2020-03-16    152.320007\n",
       " 2020-03-17    150.740005\n",
       " 2020-03-18    139.750000\n",
       " 2020-03-19    146.619995\n",
       " 2020-03-20    156.020004\n",
       " 2020-03-23    149.660004\n",
       " 2020-03-24    155.210007\n",
       " 2020-03-25    158.919998\n",
       " 2020-03-26    158.250000\n",
       " 2020-03-27    158.199997\n",
       " 2020-03-30    159.179993\n",
       " 2020-03-31    165.479996\n",
       " 2020-04-01    161.619995\n",
       " Name: FB, dtype: float64)"
      ]
     },
     "execution_count": 13,
     "metadata": {},
     "output_type": "execute_result"
    }
   ],
   "source": [
    "#load data-1 month FB data\n",
    "stock = pd.DataFrame()\n",
    "#stock['FB'] = wb.DataReader('FB',data_source = 'yahoo', start = '2019-05-01',end = '2019-06-01')['Open']\n",
    "stock['FB'] = wb.DataReader('FB',data_source = 'yahoo', start = '2020-03-01',end = '2020-04-01')['Open']\n",
    "\n",
    "dates =[]\n",
    "for x in range(len(stock)):\n",
    "    newdate = str(stock.index[x])\n",
    "    newdate = newdate[0:10]\n",
    "    dates.append(newdate)\n",
    "\n",
    "stock['dates'] = dates\n",
    "\n",
    "stock.head()\n",
    "stock['dates'], stock['FB']"
   ]
  },
  {
   "cell_type": "code",
   "execution_count": 14,
   "metadata": {},
   "outputs": [
    {
     "data": {
      "text/plain": [
       "(23, 2)"
      ]
     },
     "execution_count": 14,
     "metadata": {},
     "output_type": "execute_result"
    }
   ],
   "source": [
    "#create X and Y datasets\n",
    "dates = []\n",
    "prices = []\n",
    "#get number of rows + columns in dataset\n",
    "stock.shape"
   ]
  },
  {
   "cell_type": "code",
   "execution_count": 19,
   "metadata": {},
   "outputs": [
    {
     "data": {
      "text/plain": [
       "(21, 2)"
      ]
     },
     "execution_count": 19,
     "metadata": {},
     "output_type": "execute_result"
    }
   ],
   "source": [
    "tail = stock.tail(1)\n",
    "stock = stock.head(len(stock)-1)\n",
    "stock.shape"
   ]
  },
  {
   "cell_type": "code",
   "execution_count": 20,
   "metadata": {},
   "outputs": [
    {
     "data": {
      "text/plain": [
       "[[2],\n",
       " [3],\n",
       " [4],\n",
       " [5],\n",
       " [6],\n",
       " [9],\n",
       " [10],\n",
       " [11],\n",
       " [12],\n",
       " [13],\n",
       " [16],\n",
       " [17],\n",
       " [18],\n",
       " [19],\n",
       " [20],\n",
       " [23],\n",
       " [24],\n",
       " [25],\n",
       " [26],\n",
       " [27],\n",
       " [30]]"
      ]
     },
     "execution_count": 20,
     "metadata": {},
     "output_type": "execute_result"
    }
   ],
   "source": [
    "#create independent data set x as dates\n",
    "dates=[]\n",
    "for date in stock['dates']:\n",
    "    dates.append([int(date.split('-')[2])])\n",
    "\n",
    "#create dependent data set y as prices\n",
    "prices = []\n",
    "for open_price in stock['FB']:\n",
    "    prices.append(float(open_price))\n",
    "\n",
    "dates"
   ]
  },
  {
   "cell_type": "code",
   "execution_count": 21,
   "metadata": {},
   "outputs": [],
   "source": [
    "#function to make predictions using 3 different support vector regression models with 3 different types of kernals\n",
    "\n",
    "def predict_prices(dates,prices,x):\n",
    "    #create 3 support vector regression models\n",
    "    svr_lin = SVR(kernel = 'linear', C=1e3)   #linear kernal\n",
    "    svr_poly = SVR(kernel = 'poly', C = 1e3)    #polynomial kernel\n",
    "    svr_rbf = SVR(kernel = 'rbf', C = 1e3, gamma = 0.1)    #polynomial kernel\n",
    "    \n",
    "    #train on dates and prices\n",
    "    svr_lin.fit(dates,prices)\n",
    "    svr_poly.fit(dates,prices)\n",
    "    svr_rbf.fit(dates,prices)\n",
    "    \n",
    "    #Plot models on a graph to see which has best fit\n",
    "    plt.scatter(dates,prices, color = 'black', label = 'Data')\n",
    "    plt.scatter(dates,svr_rbf.predict(dates), color = 'red', label = 'rbf')\n",
    "    plt.scatter(dates,svr_lin.predict(dates), color = 'green', label = 'linear')\n",
    "    plt.scatter(dates,svr_poly.predict(dates), color = 'blue', label = 'poly')\n",
    "    \n",
    "    #label axis\n",
    "    plt.xlabel('Date')\n",
    "    plt.ylabel('Price')\n",
    "    plt.title('Support Vector Regression')\n",
    "    plt.legend()\n",
    "    \n",
    "    plt.show()\n",
    "    #return all 3 model predictions\n",
    "    return svr_rbf.predict(x)[0], svr_lin.predict(x)[0],svr_poly.predict(x)[0]"
   ]
  },
  {
   "cell_type": "code",
   "execution_count": 22,
   "metadata": {},
   "outputs": [
    {
     "data": {
      "image/png": "[encoded data removed]",
      "text/plain": [
       "<Figure size 432x288 with 1 Axes>"
      ]
     },
     "metadata": {
      "needs_background": "light"
     },
     "output_type": "display_data"
    },
    {
     "name": "stdout",
     "output_type": "stream",
     "text": [
      "(156.45238886701662, 145.3800109863411, 148.7495569251771)\n"
     ]
    }
   ],
   "source": [
    "predict_price = predict_prices(dates,prices,[[31]])\n",
    "print(predict_price)"
   ]
  },
  {
   "cell_type": "code",
   "execution_count": 23,
   "metadata": {},
   "outputs": [
    {
     "data": {
      "text/html": [
       "<div>\n",
       "<style scoped>\n",
       "    .dataframe tbody tr th:only-of-type {\n",
       "        vertical-align: middle;\n",
       "    }\n",
       "\n",
       "    .dataframe tbody tr th {\n",
       "        vertical-align: top;\n",
       "    }\n",
       "\n",
       "    .dataframe thead th {\n",
       "        text-align: right;\n",
       "    }\n",
       "</style>\n",
       "<table border=\"1\" class=\"dataframe\">\n",
       "  <thead>\n",
       "    <tr style=\"text-align: right;\">\n",
       "      <th></th>\n",
       "      <th>FB</th>\n",
       "      <th>dates</th>\n",
       "    </tr>\n",
       "    <tr>\n",
       "      <th>Date</th>\n",
       "      <th></th>\n",
       "      <th></th>\n",
       "    </tr>\n",
       "  </thead>\n",
       "  <tbody>\n",
       "    <tr>\n",
       "      <th>2020-03-31</th>\n",
       "      <td>165.479996</td>\n",
       "      <td>2020-03-31</td>\n",
       "    </tr>\n",
       "  </tbody>\n",
       "</table>\n",
       "</div>"
      ],
      "text/plain": [
       "                    FB       dates\n",
       "Date                              \n",
       "2020-03-31  165.479996  2020-03-31"
      ]
     },
     "execution_count": 23,
     "metadata": {},
     "output_type": "execute_result"
    }
   ],
   "source": [
    "tail"
   ]
  },
  {
   "cell_type": "code",
   "execution_count": null,
   "metadata": {},
   "outputs": [],
   "source": []
  }
 ],
 "metadata": {
  "kernelspec": {
   "display_name": "Python 3",
   "language": "python",
   "name": "python3"
  },
  "language_info": {
   "codemirror_mode": {
    "name": "ipython",
    "version": 3
   },
   "file_extension": ".py",
   "mimetype": "text/x-python",
   "name": "python",
   "nbconvert_exporter": "python",
   "pygments_lexer": "ipython3",
   "version": "3.7.7"
  }
 },
 "nbformat": 4,
 "nbformat_minor": 4
}
